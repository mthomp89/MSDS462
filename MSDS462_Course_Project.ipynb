{
  "nbformat": 4,
  "nbformat_minor": 0,
  "metadata": {
    "colab": {
      "name": "MSDS462_Course_Project.ipynb",
      "provenance": [],
      "collapsed_sections": [],
      "toc_visible": true,
      "include_colab_link": true
    },
    "kernelspec": {
      "name": "python3",
      "display_name": "Python 3"
    }
  },
  "cells": [
    {
      "cell_type": "markdown",
      "metadata": {
        "id": "view-in-github",
        "colab_type": "text"
      },
      "source": [
        "<a href=\"https://colab.research.google.com/github/mthomp89/MSDS462/blob/master/MSDS462_Course_Project.ipynb\" target=\"_parent\"><img src=\"https://colab.research.google.com/assets/colab-badge.svg\" alt=\"Open In Colab\"/></a>"
      ]
    },
    {
      "cell_type": "markdown",
      "metadata": {
        "id": "vNpUVyD5lyYL",
        "colab_type": "text"
      },
      "source": [
        "# **Corg not Corg IOS App**\n",
        "---"
      ]
    },
    {
      "cell_type": "markdown",
      "metadata": {
        "id": "POwrrRQql-6E",
        "colab_type": "text"
      },
      "source": [
        "## Project Nature and Content\n",
        "**Build and deploy a fun IOS application to identify dogs that belong to best breed: the Corgi.**\n",
        "\n",
        "### Objective\n",
        "Build and train a CNN capable of discriminating and classifying pictures of dogs as either belonging to a specific dog breed or not.\n",
        "\n",
        "### Deliverables\n",
        "IOS application and associated code\n",
        "\n",
        "### Project Flow\n",
        "1.   Collect relevant data\n",
        "2.   Train the model\n",
        "3.   Convert to Core ML\n",
        "4.   Build iOS app\n",
        "\n",
        "### Training and Deployment\n",
        "Training will utilize either a Web-based GUI such as CustomVision.ai, IBM Watson, Clarifai, Google AutoML or a custom built and tuned framework such as Keras\n",
        "\n",
        "\n",
        "### Helps\n",
        "To complete the project I will following a mixture of code found at these locations:\n",
        "\n",
        "1. https://www.pyimagesearch.com/2018/04/09/how-to-quickly-build-a-deep-learning-image-dataset/\n",
        "2. https://www.pyimagesearch.com/2018/04/16/keras-and-convolutional-neural-networks-cnns/\n",
        "3. https://www.pyimagesearch.com/2018/04/23/running-keras-models-on-ios-with-coreml/\n",
        "4. https://learning.oreilly.com/library/view/practical-deep-learning/9781492034858/ch12.html"
      ]
    },
    {
      "cell_type": "markdown",
      "metadata": {
        "id": "5OuQr6rFnmY4",
        "colab_type": "text"
      },
      "source": [
        "### Dataset\n",
        "The creation of a complex dataset will be required in order to acheive the objective. The dataset tee structure will involve at a minimum three branches:\n",
        "\n",
        "\n",
        "1.   Labeled pictures of the Pembroke Welsh Corgi breed\n",
        "2.   Labeled pictures of the Cardigan Welsh Corgi breed\n",
        "3.   Labeled pictures of dogs other than the two type of Corgi breed\n",
        "\n",
        "\n",
        "\n",
        "The dataset will be built one of three ways:\n",
        "\n",
        "\n",
        "1.   Automatically via code using the Bing Image Search API\n",
        "2.   Automatically via code pulling the ImageNet WordNet ID\n",
        "```\n",
        "   263: {'id': '02113023-n', 'label': 'Pembroke, Pembroke Welsh corgi',\n",
        "       'uri': 'http://wordnet-rdf.princeton.edu/wn30/02113023-n'}\n",
        "\n",
        "   264: {'id': '02113186-n', 'label': 'Cardigan, Cardigan Welsh corgi',\n",
        "       'uri': 'http://wordnet-rdf.princeton.edu/wn30/02113186-n'}\n",
        "```\n",
        "\n",
        "3.   Manually via Bing image search\n",
        "\n"
      ]
    },
    {
      "cell_type": "markdown",
      "metadata": {
        "id": "-ntHGjAxpiGv",
        "colab_type": "text"
      },
      "source": [
        "##### License"
      ]
    },
    {
      "cell_type": "markdown",
      "metadata": {
        "id": "7GOHAUAEpi_t",
        "colab_type": "text"
      },
      "source": [
        "The MIT License (MIT)\n",
        "\n",
        "Permission is hereby granted, free of charge, to any person obtaining a copy of this software and associated documentation files (the “Software”), to deal in the Software without restriction, including without limitation the rights to use, copy, modify, merge, publish, distribute, sublicense, and/or sell copies of the Software, and to permit persons to whom the Software is furnished to do so, subject to the following conditions:\n",
        "\n",
        "The above copyright notice and this permission notice shall be included in all copies or substantial portions of the Software.\n",
        "\n",
        "THE SOFTWARE IS PROVIDED “AS IS”, WITHOUT WARRANTY OF ANY KIND, EXPRESS OR IMPLIED, INCLUDING BUT NOT LIMITED TO THE WARRANTIES OF MERCHANTABILITY, FITNESS FOR A PARTICULAR PURPOSE AND NONINFRINGEMENT. IN NO EVENT SHALL THE AUTHORS OR COPYRIGHT HOLDERS BE LIABLE FOR ANY CLAIM, DAMAGES OR OTHER LIABILITY, WHETHER IN AN ACTION OF CONTRACT, TORT OR OTHERWISE, ARISING FROM, OUT OF OR IN CONNECTION WITH THE SOFTWARE OR THE USE OR OTHER DEALINGS IN THE SOFTWARE."
      ]
    },
    {
      "cell_type": "markdown",
      "metadata": {
        "id": "bXgumATkpwV4",
        "colab_type": "text"
      },
      "source": [
        "# Environment Setup and Utilities"
      ]
    },
    {
      "cell_type": "code",
      "metadata": {
        "id": "TbLeoFTqpynD",
        "colab_type": "code",
        "colab": {}
      },
      "source": [
        "!pip install requests # make HTTP requests"
      ],
      "execution_count": 0,
      "outputs": []
    },
    {
      "cell_type": "markdown",
      "metadata": {
        "id": "0BuGA0_0rNGH",
        "colab_type": "text"
      },
      "source": [
        "## Obtain and Load Data"
      ]
    },
    {
      "cell_type": "code",
      "metadata": {
        "id": "Cwfx0oXOrKt1",
        "colab_type": "code",
        "colab": {}
      },
      "source": [
        "# import the necessary packages\n",
        "from requests import exceptions\n",
        "import argparse\n",
        "import requests\n",
        "import cv2\n",
        "import os"
      ],
      "execution_count": 0,
      "outputs": []
    },
    {
      "cell_type": "markdown",
      "metadata": {
        "id": "KfP7EdenwDkV",
        "colab_type": "text"
      },
      "source": [
        "##### Bing Image Search API"
      ]
    },
    {
      "cell_type": "code",
      "metadata": {
        "id": "cfW1I7C7vQqn",
        "colab_type": "code",
        "colab": {}
      },
      "source": [
        "# construct the argument parser and parse the arguments\n",
        "ap = argparse.ArgumentParser()\n",
        "ap.add_argument(\"-q\", \"--query\", required=True,\n",
        "\thelp=\"search query to search Bing Image API for\")\n",
        "ap.add_argument(\"-o\", \"--output\", required=True,\n",
        "\thelp=\"path to output directory of images\")\n",
        "args = vars(ap.parse_args())"
      ],
      "execution_count": 0,
      "outputs": []
    },
    {
      "cell_type": "code",
      "metadata": {
        "id": "bu5TzFLPwO4k",
        "colab_type": "code",
        "colab": {}
      },
      "source": [
        "# set your Microsoft Cognitive Services API key along with (1) the\n",
        "# maximum number of results for a given search and (2) the group size\n",
        "# for results (maximum of 50 per request)\n",
        "API_KEY = \"YOUR_API_KEY_GOES_HERE\"\n",
        "MAX_RESULTS = 250\n",
        "GROUP_SIZE = 50\n",
        " \n",
        "# set the endpoint API URL\n",
        "URL = \"https://api.cognitive.microsoft.com/bing/v7.0/images/search\""
      ],
      "execution_count": 0,
      "outputs": []
    },
    {
      "cell_type": "code",
      "metadata": {
        "id": "ti7AvgUzwj24",
        "colab_type": "code",
        "colab": {}
      },
      "source": [
        "# when attempting to download images from the web both the Python\n",
        "# programming language and the requests library have a number of\n",
        "# exceptions that can be thrown so let's build a list of them now\n",
        "# so we can filter on them\n",
        "EXCEPTIONS = set([IOError, FileNotFoundError,\n",
        "\texceptions.RequestException, exceptions.HTTPError,\n",
        "\texceptions.ConnectionError, exceptions.Timeout])"
      ],
      "execution_count": 0,
      "outputs": []
    },
    {
      "cell_type": "code",
      "metadata": {
        "id": "lx2Tth9qwmdL",
        "colab_type": "code",
        "colab": {}
      },
      "source": [
        "# store the search term in a convenience variable then set the\n",
        "# headers and search parameters\n",
        "term = args[\"query\"]\n",
        "headers = {\"Ocp-Apim-Subscription-Key\" : API_KEY}\n",
        "params = {\"q\": term, \"offset\": 0, \"count\": GROUP_SIZE}\n",
        " \n",
        "# make the search\n",
        "print(\"[INFO] searching Bing API for '{}'\".format(term))\n",
        "search = requests.get(URL, headers=headers, params=params)\n",
        "search.raise_for_status()\n",
        " \n",
        "# grab the results from the search, including the total number of\n",
        "# estimated results returned by the Bing API\n",
        "results = search.json()\n",
        "estNumResults = min(results[\"totalEstimatedMatches\"], MAX_RESULTS)\n",
        "print(\"[INFO] {} total results for '{}'\".format(estNumResults,\n",
        "\tterm))\n",
        " \n",
        "# initialize the total number of images downloaded thus far\n",
        "total = 0"
      ],
      "execution_count": 0,
      "outputs": []
    },
    {
      "cell_type": "markdown",
      "metadata": {
        "id": "PPnfE6PtujYk",
        "colab_type": "text"
      },
      "source": [
        "# EDA"
      ]
    },
    {
      "cell_type": "markdown",
      "metadata": {
        "id": "4nmIVJ40umDF",
        "colab_type": "text"
      },
      "source": [
        "# Model"
      ]
    },
    {
      "cell_type": "markdown",
      "metadata": {
        "id": "HbLfCZj9ux15",
        "colab_type": "text"
      },
      "source": [
        "# Conversion to CoreML"
      ]
    },
    {
      "cell_type": "markdown",
      "metadata": {
        "id": "UDMepPU9u0R1",
        "colab_type": "text"
      },
      "source": [
        "# iOS App Build"
      ]
    }
  ]
}